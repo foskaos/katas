{
 "cells": [
  {
   "cell_type": "code",
   "execution_count": 14,
   "outputs": [],
   "source": [
    "#st = \"99100\"\n",
    "#st = '11121314'\n",
    "#st =\"123456789101112131415\"\n",
    "#st = '91011'\n",
    "st = '271044271045271046271047271048'"
   ],
   "metadata": {
    "collapsed": false,
    "ExecuteTime": {
     "end_time": "2024-01-14T23:37:02.177782Z",
     "start_time": "2024-01-14T23:37:02.169363Z"
    }
   },
   "id": "ccd1ef45546a471b"
  },
  {
   "cell_type": "code",
   "execution_count": 15,
   "outputs": [
    {
     "name": "stdout",
     "output_type": "stream",
     "text": [
      "30\n",
      "window= 1\n",
      "First number starts at 0 and ends at 1 = 2\n",
      "Second number starts at 1 and ends at 2 = 7\n",
      "nope, increment window\n",
      "window= 2\n",
      "First number starts at 0 and ends at 2 = 27\n",
      "Second number starts at 2 and ends at 4 = 10\n",
      "nope, increment window\n",
      "window= 3\n",
      "First number starts at 0 and ends at 4 = 2710\n",
      "Second number starts at 4 and ends at 7 = 442\n",
      "nope, increment window\n",
      "window= 4\n",
      "First number starts at 0 and ends at 7 = 2710442\n",
      "Second number starts at 7 and ends at 11 = 7104\n",
      "nope, increment window\n",
      "window= 5\n",
      "First number starts at 0 and ends at 11 = 27104427104\n",
      "Second number starts at 11 and ends at 16 = 52710\n",
      "nope, increment window\n",
      "window= 6\n",
      "First number starts at 0 and ends at 16 = 2710442710452710\n",
      "Second number starts at 16 and ends at 22 = 462710\n",
      "nope, increment window\n",
      "window= 7\n",
      "First number starts at 0 and ends at 22 = 2710442710452710462710\n",
      "Second number starts at 22 and ends at 29 = 4727104\n",
      "nope, increment window\n",
      "window= 8\n",
      "First number starts at 0 and ends at 29 = 27104427104527104627104727104\n",
      "Second number starts at 29 and ends at 37 = 8\n",
      "nope, increment window\n",
      "window= 9\n",
      "First number starts at 0 and ends at 37 = 271044271045271046271047271048\n",
      "Second number starts at 37 and ends at 46 = \n",
      "window= 9\n",
      "First number starts at 0 and ends at 37 = 271044271045271046271047271048\n",
      "Second number starts at 37 and ends at 46 = \n",
      "{271044271045271046271047271048}\n",
      "{271044271045271046271047271048}\n"
     ]
    }
   ],
   "source": [
    "i = 0\n",
    "window = 1\n",
    "nums = set()\n",
    "print(len(st))\n",
    "\n",
    "first_num_starts = 0\n",
    "first_num_ends = 1\n",
    "\n",
    "second_num_starts = 1\n",
    "second_num_ends = 2\n",
    "try:\n",
    "    while True:\n",
    "        print(f\"window= {window}\")\n",
    "        print(f\"First number starts at {first_num_starts} and ends at {first_num_ends} = {(st[first_num_starts:first_num_ends])}\")\n",
    "        print(f\"Second number starts at {second_num_starts} and ends at {second_num_ends} = {(st[second_num_starts:second_num_ends])}\")\n",
    "        if int(st[first_num_starts:first_num_ends]) + 1  == int(st[second_num_starts:second_num_ends]):\n",
    "        \n",
    "            print('match')\n",
    "            nums.add(int(st[first_num_starts:first_num_ends]))\n",
    "            nums.add(int(st[second_num_starts:second_num_ends]))\n",
    "            first_num_starts = second_num_ends\n",
    "            first_num_ends = first_num_starts + window\n",
    "            second_num_starts = first_num_ends\n",
    "            second_num_ends = second_num_starts + window\n",
    "            break\n",
    "        else:\n",
    "            print('nope, increment window')\n",
    "            \n",
    "            if len((str(int(st[first_num_starts:first_num_ends]) + 1))) > len((str(int(st[first_num_starts:first_num_ends])))):\n",
    "                print('order of magnitude')\n",
    "                if int(st[first_num_starts:first_num_ends]) == int(st[second_num_starts:second_num_ends]):\n",
    "                    first_num_ends = len((str(int(st[first_num_starts:first_num_ends]) + 1)))\n",
    "                    second_num_starts = first_num_ends\n",
    "                    window += len((str(int(st[first_num_starts:first_num_ends]) + 1)))\n",
    "                    second_num_ends = window + second_num_starts\n",
    "                else:\n",
    "                    second_num_starts = first_num_ends\n",
    "                    second_num_ends = window + second_num_starts\n",
    "                    break\n",
    "            else:\n",
    "                first_num_ends += window\n",
    "                second_num_starts = first_num_ends\n",
    "                window += 1\n",
    "                second_num_ends += window\n",
    "except:\n",
    "    nums.add(int(st))\n",
    "        \n",
    "try:\n",
    "    while True:\n",
    "    \n",
    "        print(f\"window= {window}\")\n",
    "        print(f\"First number starts at {first_num_starts} and ends at {first_num_ends} = {(st[first_num_starts:first_num_ends])}\")\n",
    "        print(f\"Second number starts at {second_num_starts} and ends at {second_num_ends} = {(st[second_num_starts:second_num_ends])}\")\n",
    "    \n",
    "        if int(st[first_num_starts:first_num_ends]) + 1  == int(st[second_num_starts:second_num_ends]):\n",
    "            print('match')\n",
    "            first = int(st[first_num_starts:first_num_ends])\n",
    "            second = int(st[second_num_starts:second_num_ends])\n",
    "            nums.add(int(st[first_num_starts:first_num_ends]))\n",
    "            nums.add(int(st[second_num_starts:second_num_ends]))\n",
    "            first_num_starts = second_num_ends\n",
    "            first_num_ends = first_num_starts + window\n",
    "            second_num_starts = first_num_ends\n",
    "            second_num_ends = second_num_starts + window\n",
    "    \n",
    "        else:\n",
    "            print('nope, increment window')\n",
    "            second_num_ends += window\n",
    "            window += 1\n",
    "        \n",
    "        print()  \n",
    "        print(second_num_ends)\n",
    "        if second_num_ends > len(st):\n",
    "            print('break')\n",
    "            if len(nums) == 0:\n",
    "                nums.add(int(st))\n",
    "            break\n",
    "except:\n",
    "    print(nums)\n",
    "\n",
    "print(nums)"
   ],
   "metadata": {
    "collapsed": false,
    "ExecuteTime": {
     "end_time": "2024-01-14T23:37:03.081084Z",
     "start_time": "2024-01-14T23:37:03.073521Z"
    }
   },
   "id": "ccefd6ad14188164"
  },
  {
   "cell_type": "code",
   "execution_count": null,
   "outputs": [],
   "source": [
    "st[10:12]"
   ],
   "metadata": {
    "collapsed": false
   },
   "id": "b1c92283e62d068c"
  },
  {
   "cell_type": "code",
   "execution_count": null,
   "outputs": [],
   "source": [
    "s = set()"
   ],
   "metadata": {
    "collapsed": false
   },
   "id": "ff8c33daac83380d"
  },
  {
   "cell_type": "code",
   "execution_count": null,
   "outputs": [],
   "source": [
    "s.add(1)"
   ],
   "metadata": {
    "collapsed": false
   },
   "id": "57c74a036335a48e"
  },
  {
   "cell_type": "code",
   "execution_count": 33,
   "outputs": [
    {
     "name": "stdout",
     "output_type": "stream",
     "text": [
      "i:0,l:1, r:1, ln:1, rn:2\n",
      "match\n",
      "i:1,l:1, r:1, ln:2, rn:3\n",
      "match\n",
      "i:2,l:1, r:1, ln:3, rn:5\n"
     ]
    }
   ],
   "source": [
    "i = 0\n",
    "l = 1\n",
    "r = 1\n",
    "\n",
    "st = '1235'\n",
    "\n",
    "\n",
    "# 1. figure out window\n",
    "cns = 0 \n",
    "while True:\n",
    "    ln = int(st[i:i+l])\n",
    "    rn = int(st[i+l:i+l+r])\n",
    "    print(f\"i:{i},l:{l}, r:{r}, ln:{ln}, rn:{rn}\")\n",
    "    \n",
    "    \n",
    "    ln = int(st[i:i+l])\n",
    "    rn = int(st[i+l:i+l+r])\n",
    "    \n",
    "    if ln + 1 == rn:\n",
    "        print('match')\n",
    "        cns = i+l+r\n",
    "        i = i+l\n",
    "    else:\n",
    "        # not a match, so there are a few possibilities:\n",
    "        # 1. order of magnitude has changed\n",
    "        # 2. Next Number Start\n",
    "        # 3. The only number\n",
    "        \n",
    "        break"
   ],
   "metadata": {
    "collapsed": false,
    "ExecuteTime": {
     "end_time": "2024-01-15T18:46:12.782396Z",
     "start_time": "2024-01-15T18:46:12.773288Z"
    }
   },
   "id": "c8b0ecce532fc378"
  },
  {
   "cell_type": "code",
   "execution_count": 34,
   "outputs": [
    {
     "data": {
      "text/plain": "'123'"
     },
     "execution_count": 34,
     "metadata": {},
     "output_type": "execute_result"
    }
   ],
   "source": [
    "st[:cns]"
   ],
   "metadata": {
    "collapsed": false,
    "ExecuteTime": {
     "end_time": "2024-01-15T18:46:13.472260Z",
     "start_time": "2024-01-15T18:46:13.466095Z"
    }
   },
   "id": "5ecffc5225dd34c0"
  },
  {
   "cell_type": "code",
   "execution_count": 28,
   "outputs": [
    {
     "data": {
      "text/plain": "2"
     },
     "execution_count": 28,
     "metadata": {},
     "output_type": "execute_result"
    }
   ],
   "source": [
    "cns"
   ],
   "metadata": {
    "collapsed": false,
    "ExecuteTime": {
     "end_time": "2024-01-15T18:45:57.761838Z",
     "start_time": "2024-01-15T18:45:57.731951Z"
    }
   },
   "id": "3030e66f9b39a782"
  },
  {
   "cell_type": "code",
   "execution_count": 36,
   "outputs": [
    {
     "name": "stdout",
     "output_type": "stream",
     "text": [
      "OM Shift, 9\n",
      "OM Shift, 99\n",
      "OM Shift, 999\n",
      "OM Shift, 9999\n",
      "OM Shift, 99999\n",
      "OM Shift, 999999\n"
     ]
    },
    {
     "ename": "KeyboardInterrupt",
     "evalue": "",
     "output_type": "error",
     "traceback": [
      "\u001B[0;31m---------------------------------------------------------------------------\u001B[0m",
      "\u001B[0;31mKeyboardInterrupt\u001B[0m                         Traceback (most recent call last)",
      "Cell \u001B[0;32mIn[36], line 6\u001B[0m\n\u001B[1;32m      1\u001B[0m i \u001B[38;5;241m=\u001B[39m \u001B[38;5;241m0\u001B[39m\n\u001B[1;32m      3\u001B[0m \u001B[38;5;28;01mwhile\u001B[39;00m \u001B[38;5;28;01mTrue\u001B[39;00m:\n\u001B[0;32m----> 6\u001B[0m     \u001B[38;5;28;01mif\u001B[39;00m \u001B[38;5;28mlen\u001B[39m(\u001B[38;5;28mstr\u001B[39m(i \u001B[38;5;241m+\u001B[39m \u001B[38;5;241m1\u001B[39m)) \u001B[38;5;241m>\u001B[39m \u001B[38;5;28mlen\u001B[39m(\u001B[38;5;28mstr\u001B[39m(i)):\n\u001B[1;32m      7\u001B[0m         \u001B[38;5;28mprint\u001B[39m(\u001B[38;5;124m'\u001B[39m\u001B[38;5;124mOM Shift,\u001B[39m\u001B[38;5;124m'\u001B[39m,i)\n\u001B[1;32m      9\u001B[0m     i\u001B[38;5;241m+\u001B[39m\u001B[38;5;241m=\u001B[39m\u001B[38;5;241m1\u001B[39m\n",
      "\u001B[0;31mKeyboardInterrupt\u001B[0m: "
     ]
    }
   ],
   "source": [
    "i = 0\n",
    "\n",
    "while True:\n",
    "    \n",
    "    \n",
    "    if len(str(i + 1)) > len(str(i)):\n",
    "        print('OM Shift,',i)\n",
    "    \n",
    "    i+=1"
   ],
   "metadata": {
    "collapsed": false,
    "ExecuteTime": {
     "end_time": "2024-01-15T18:48:25.021368Z",
     "start_time": "2024-01-15T18:48:22.683592Z"
    }
   },
   "id": "e253342d586e35a5"
  },
  {
   "cell_type": "code",
   "execution_count": null,
   "outputs": [],
   "source": [],
   "metadata": {
    "collapsed": false
   },
   "id": "429272a37cd8e58"
  }
 ],
 "metadata": {
  "kernelspec": {
   "display_name": "Python 3",
   "language": "python",
   "name": "python3"
  },
  "language_info": {
   "codemirror_mode": {
    "name": "ipython",
    "version": 2
   },
   "file_extension": ".py",
   "mimetype": "text/x-python",
   "name": "python",
   "nbconvert_exporter": "python",
   "pygments_lexer": "ipython2",
   "version": "2.7.6"
  }
 },
 "nbformat": 4,
 "nbformat_minor": 5
}
