{
 "cells": [
  {
   "cell_type": "code",
   "execution_count": 3,
   "id": "initial_id",
   "metadata": {
    "collapsed": true,
    "ExecuteTime": {
     "end_time": "2024-01-28T20:34:37.159784Z",
     "start_time": "2024-01-28T20:34:37.149776Z"
    }
   },
   "outputs": [],
   "source": [
    "pad = [[1,2,3],[4,5,6],[7,8,9],[None,0,None]]"
   ]
  },
  {
   "cell_type": "code",
   "execution_count": 4,
   "outputs": [
    {
     "name": "stdout",
     "output_type": "stream",
     "text": [
      "[1, 2, 3]\n",
      "[4, 5, 6]\n",
      "[7, 8, 9]\n",
      "[None, 0, None]\n"
     ]
    }
   ],
   "source": [
    "for row in pad:\n",
    "    print(row)"
   ],
   "metadata": {
    "collapsed": false,
    "ExecuteTime": {
     "end_time": "2024-01-28T20:34:37.378840Z",
     "start_time": "2024-01-28T20:34:37.372643Z"
    }
   },
   "id": "6adfc02e0fa743bd"
  },
  {
   "cell_type": "code",
   "execution_count": 68,
   "outputs": [],
   "source": [
    "keypad = []\n",
    "for row in range(3):\n",
    "    r = []\n",
    "    for col in range(3):\n",
    "        r.append(str(3*row+(col+1)))\n",
    "    keypad.append(r)\n",
    "else:\n",
    "    keypad.append([None,'0',None])"
   ],
   "metadata": {
    "collapsed": false,
    "ExecuteTime": {
     "end_time": "2024-01-28T21:23:29.240530Z",
     "start_time": "2024-01-28T21:23:29.224515Z"
    }
   },
   "id": "b4972b37ae3ef009"
  },
  {
   "cell_type": "code",
   "execution_count": 69,
   "outputs": [
    {
     "data": {
      "text/plain": "[['1', '2', '3'], ['4', '5', '6'], ['7', '8', '9'], [None, '0', None]]"
     },
     "execution_count": 69,
     "metadata": {},
     "output_type": "execute_result"
    }
   ],
   "source": [
    "keypad"
   ],
   "metadata": {
    "collapsed": false,
    "ExecuteTime": {
     "end_time": "2024-01-28T21:23:29.626759Z",
     "start_time": "2024-01-28T21:23:29.614331Z"
    }
   },
   "id": "5620d10db8b5b9f6"
  },
  {
   "cell_type": "code",
   "execution_count": 24,
   "outputs": [
    {
     "ename": "SyntaxError",
     "evalue": "invalid syntax (2599417118.py, line 1)",
     "output_type": "error",
     "traceback": [
      "\u001B[0;36m  Cell \u001B[0;32mIn[24], line 1\u001B[0;36m\u001B[0m\n\u001B[0;31m    5 -> 2(x-3), 4 (x-1), 6 (x+1), 8(x+3)\u001B[0m\n\u001B[0m      ^\u001B[0m\n\u001B[0;31mSyntaxError\u001B[0m\u001B[0;31m:\u001B[0m invalid syntax\n"
     ]
    }
   ],
   "source": [
    "5 -> 2(x-3), 4 (x-1), 6 (x+1), 8(x+3)\n",
    "\n",
    "\n"
   ],
   "metadata": {
    "collapsed": false,
    "ExecuteTime": {
     "end_time": "2024-01-28T20:43:13.591903Z",
     "start_time": "2024-01-28T20:43:13.583553Z"
    }
   },
   "id": "f18babb110553621"
  },
  {
   "cell_type": "code",
   "execution_count": 76,
   "outputs": [
    {
     "name": "stdout",
     "output_type": "stream",
     "text": [
      "{'1': ['2', '4'], '2': ['3', '1', '5'], '3': ['2', '6'], '4': ['5', '7', '1'], '5': ['6', '4', '8', '2'], '6': ['5', '9', '3'], '7': ['8', '4'], '8': ['9', '7', '0', '5'], '9': ['8', '6'], '0': ['8']}\n"
     ]
    }
   ],
   "source": [
    "def filtuple(tup):\n",
    "    \n",
    "    violate = False\n",
    "    if (tup[1] > 2) or (tup[1]<0):\n",
    "        violate = True\n",
    "    violate2 = False\n",
    "    if (tup[0] > 3) or (tup[0] < 0):\n",
    "        violate2 = True\n",
    "        \n",
    "    if violate or violate2:\n",
    "        return None\n",
    "    else:\n",
    "        return tup\n",
    "\n",
    "def get_poss(r,c):\n",
    "    \n",
    "   return [filtuple((r,c+1)),filtuple((r, c-1)),filtuple((r+1,c)),filtuple((r-1,c))]\n",
    "\n",
    "lk = {}\n",
    "for index,row in enumerate(keypad):\n",
    "    for pos,key in enumerate(row):\n",
    "        #print(key,\":\", key-3,key-1,key+3,key+1)\n",
    "        posses = get_poss(index,pos)\n",
    "        chars = []\n",
    "        if key:\n",
    "            # print(key,\":\")\n",
    "            for tup in posses:\n",
    "                if tup:\n",
    "                    possible = keypad[tup[0]][tup[1]]\n",
    "                    if possible:\n",
    "                        chars.append(possible)\n",
    "                        #print(possible,sep=' ',end='')\n",
    "            lk[key] = chars\n",
    "print(lk)"
   ],
   "metadata": {
    "collapsed": false,
    "ExecuteTime": {
     "end_time": "2024-01-28T21:25:54.320006Z",
     "start_time": "2024-01-28T21:25:54.306624Z"
    }
   },
   "id": "77add649071e1091"
  },
  {
   "cell_type": "code",
   "execution_count": 73,
   "outputs": [
    {
     "data": {
      "text/plain": "{'1': ['2', '4'],\n '2': ['3', '1', '5'],\n '3': ['2', '6'],\n '4': ['5', '7', '1'],\n '5': ['6', '4', '8', '2'],\n '6': ['5', '9', '3'],\n '7': ['8', '4'],\n '8': ['9', '7', '0', '5'],\n '9': ['8', '6'],\n '0': ['8']}"
     },
     "execution_count": 73,
     "metadata": {},
     "output_type": "execute_result"
    }
   ],
   "source": [],
   "metadata": {
    "collapsed": false,
    "ExecuteTime": {
     "end_time": "2024-01-28T21:25:08.948197Z",
     "start_time": "2024-01-28T21:25:08.936095Z"
    }
   },
   "id": "6d21b8f9c61d2677"
  },
  {
   "cell_type": "code",
   "execution_count": 64,
   "outputs": [],
   "source": [
    "def filtuple(tup):\n",
    "    \n",
    "    violate = False\n",
    "    if (tup[1] > 2) or (tup[1]<0):\n",
    "        violate = True\n",
    "    violate2 = False\n",
    "    if (tup[0] > 3) or (tup[0] < 0):\n",
    "        violate2 = True\n",
    "        \n",
    "    if violate or violate2:\n",
    "        return None\n",
    "    else:\n",
    "        return tup\n",
    "\n",
    "def get_poss(r,c):\n",
    "    \n",
    "   return [filtuple((r,c+1)),filtuple((r, c-1)),filtuple((r+1,c)),filtuple((r-1,c))]\n",
    "    "
   ],
   "metadata": {
    "collapsed": false,
    "ExecuteTime": {
     "end_time": "2024-01-28T21:21:59.108333Z",
     "start_time": "2024-01-28T21:21:59.077592Z"
    }
   },
   "id": "f91bf779ede3539e"
  },
  {
   "cell_type": "code",
   "execution_count": 36,
   "outputs": [
    {
     "data": {
      "text/plain": "[1, 0]"
     },
     "execution_count": 36,
     "metadata": {},
     "output_type": "execute_result"
    }
   ],
   "source": [
    "[x for x in (1,0)]"
   ],
   "metadata": {
    "collapsed": false,
    "ExecuteTime": {
     "end_time": "2024-01-28T20:54:52.990085Z",
     "start_time": "2024-01-28T20:54:52.973494Z"
    }
   },
   "id": "dde86d765e7768fa"
  },
  {
   "cell_type": "code",
   "execution_count": 37,
   "outputs": [
    {
     "name": "stdout",
     "output_type": "stream",
     "text": [
      "1\n",
      "0\n"
     ]
    }
   ],
   "source": [
    "for x in (1,0):\n",
    "    print(x)"
   ],
   "metadata": {
    "collapsed": false,
    "ExecuteTime": {
     "end_time": "2024-01-28T20:55:16.911362Z",
     "start_time": "2024-01-28T20:55:16.891137Z"
    }
   },
   "id": "458c2e482cf16df3"
  },
  {
   "cell_type": "code",
   "execution_count": 152,
   "outputs": [],
   "source": [
    "\n",
    "\n",
    "def get_pins(observed):\n",
    "    \n",
    "    keypad = []\n",
    "\n",
    "    for row in range(3):\n",
    "        r = []\n",
    "        for col in range(3):\n",
    "            r.append(str(3*row+(col+1)))\n",
    "        keypad.append(r)\n",
    "    else:\n",
    "        keypad.append([None,'0',None])\n",
    "    \n",
    "    \n",
    "    def filtuple(tup):\n",
    "    \n",
    "        violate = False\n",
    "        if (tup[1] > 2) or (tup[1]<0):\n",
    "            violate = True\n",
    "        violate2 = False\n",
    "        if (tup[0] > 3) or (tup[0] < 0):\n",
    "            violate2 = True\n",
    "            \n",
    "        if violate or violate2:\n",
    "            return None\n",
    "        else:\n",
    "            return tup\n",
    "\n",
    "    def get_poss(r,c):\n",
    "\n",
    "        return [filtuple((r,c+1)),filtuple((r, c-1)),filtuple((r+1,c)),filtuple((r-1,c))]\n",
    "\n",
    "    lk = {}\n",
    "    for index,row in enumerate(keypad):\n",
    "        for pos,key in enumerate(row):\n",
    "            #print(key,\":\", key-3,key-1,key+3,key+1)\n",
    "            posses = get_poss(index,pos)\n",
    "            chars = []\n",
    "            if key:\n",
    "                # print(key,\":\")\n",
    "                for tup in posses:\n",
    "                    if tup:\n",
    "                        possible = keypad[tup[0]][tup[1]]\n",
    "                        if possible:\n",
    "                            chars.append(possible)\n",
    "                            #print(possible,sep=' ',end='')\n",
    "                chars.append(key)\n",
    "                lk[key] = chars\n",
    "                \n",
    "    combos = []\n",
    "    \n",
    "    # for i in range(len(observed)):\n",
    "    #     print(lk[observed[i]])\n",
    "        # for j in range(len(lk[observed[i]])):\n",
    "        #     print(lk[observed[i]],lk[observed[i]][j])\n",
    "    combos = []\n",
    "    for i,dig in enumerate(observed):\n",
    "        print(dig)\n",
    "        print()\n",
    "        for p in lk[dig]:\n",
    "            for j,dn in enumerate(observed[i+1:]):\n",
    "                print(p,dn)\n",
    "                combos.append([p,dn])\n",
    "        print()\n",
    "    \n",
    "    return(combos)  \n",
    "    "
   ],
   "metadata": {
    "collapsed": false,
    "ExecuteTime": {
     "end_time": "2024-01-28T23:02:06.977424Z",
     "start_time": "2024-01-28T23:02:06.960957Z"
    }
   },
   "id": "6b9a516f937a14be"
  },
  {
   "cell_type": "code",
   "execution_count": 153,
   "outputs": [
    {
     "name": "stdout",
     "output_type": "stream",
     "text": [
      "3\n",
      "\n",
      "2 6\n",
      "2 9\n",
      "6 6\n",
      "6 9\n",
      "3 6\n",
      "3 9\n",
      "\n",
      "6\n",
      "\n",
      "5 9\n",
      "9 9\n",
      "3 9\n",
      "6 9\n",
      "\n",
      "9\n"
     ]
    }
   ],
   "source": [
    "t = get_pins('369')"
   ],
   "metadata": {
    "collapsed": false,
    "ExecuteTime": {
     "end_time": "2024-01-28T23:02:07.183021Z",
     "start_time": "2024-01-28T23:02:07.174258Z"
    }
   },
   "id": "ed8a0dd2ce8a5201"
  },
  {
   "cell_type": "code",
   "execution_count": 156,
   "outputs": [
    {
     "name": "stdout",
     "output_type": "stream",
     "text": [
      "['2', '6']\n",
      "['2', '9']\n",
      "['6', '6']\n",
      "['6', '9']\n",
      "['3', '6']\n",
      "['3', '9']\n",
      "['5', '9']\n",
      "['9', '9']\n",
      "['3', '9']\n",
      "['6', '9']\n"
     ]
    }
   ],
   "source": [
    "for pair in t:\n",
    "    print(pair)"
   ],
   "metadata": {
    "collapsed": false,
    "ExecuteTime": {
     "end_time": "2024-01-28T23:02:26.752956Z",
     "start_time": "2024-01-28T23:02:26.742349Z"
    }
   },
   "id": "1c3d9f8cf98f21d0"
  },
  {
   "cell_type": "code",
   "execution_count": 85,
   "outputs": [
    {
     "ename": "TypeError",
     "evalue": "unsupported operand type(s) for ^: 'list' and 'list'",
     "output_type": "error",
     "traceback": [
      "\u001B[0;31m---------------------------------------------------------------------------\u001B[0m",
      "\u001B[0;31mTypeError\u001B[0m                                 Traceback (most recent call last)",
      "Cell \u001B[0;32mIn[85], line 1\u001B[0m\n\u001B[0;32m----> 1\u001B[0m a\u001B[38;5;241m^\u001B[39mb\n",
      "\u001B[0;31mTypeError\u001B[0m: unsupported operand type(s) for ^: 'list' and 'list'"
     ]
    }
   ],
   "source": [],
   "metadata": {
    "collapsed": false,
    "ExecuteTime": {
     "end_time": "2024-01-28T22:45:08.713075Z",
     "start_time": "2024-01-28T22:45:08.704036Z"
    }
   },
   "id": "8131c266db6dbb12"
  },
  {
   "cell_type": "code",
   "execution_count": 86,
   "outputs": [
    {
     "name": "stdout",
     "output_type": "stream",
     "text": [
      "2 5\n",
      "2 9\n",
      "2 3\n",
      "2 6\n",
      "6 5\n",
      "6 9\n",
      "6 3\n",
      "6 6\n",
      "3 5\n",
      "3 9\n",
      "3 3\n",
      "3 6\n"
     ]
    }
   ],
   "source": [
    "for i in a:\n",
    "    for j in b:\n",
    "        print(i,j)"
   ],
   "metadata": {
    "collapsed": false,
    "ExecuteTime": {
     "end_time": "2024-01-28T22:45:41.520889Z",
     "start_time": "2024-01-28T22:45:41.489624Z"
    }
   },
   "id": "a2acdb3f3dd5b9df"
  },
  {
   "cell_type": "code",
   "execution_count": null,
   "outputs": [],
   "source": [],
   "metadata": {
    "collapsed": false
   },
   "id": "5835aee68883744a"
  }
 ],
 "metadata": {
  "kernelspec": {
   "display_name": "Python 3",
   "language": "python",
   "name": "python3"
  },
  "language_info": {
   "codemirror_mode": {
    "name": "ipython",
    "version": 2
   },
   "file_extension": ".py",
   "mimetype": "text/x-python",
   "name": "python",
   "nbconvert_exporter": "python",
   "pygments_lexer": "ipython2",
   "version": "2.7.6"
  }
 },
 "nbformat": 4,
 "nbformat_minor": 5
}
